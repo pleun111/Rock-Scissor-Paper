{
 "cells": [
  {
   "cell_type": "code",
   "execution_count": null,
   "id": "167ad198",
   "metadata": {},
   "outputs": [
    {
     "name": "stdout",
     "output_type": "stream",
     "text": [
      "['Rock', 'Scissors', 'Paper']\n",
      "Please choose Rock, Scissor, or Paper:Scissors\n",
      "Rock\n",
      "\n",
      "You chose Scissors, computer chose Rock.\n",
      "\n",
      "You lose.\n",
      "Do you wish to continue playing? (Y/N)Y\n",
      "['Rock', 'Scissors', 'Paper']\n",
      "Please choose Rock, Scissor, or Paper:Paper\n",
      "Scissors\n",
      "\n",
      "You chose Paper, computer chose Scissors.\n",
      "\n",
      "You lose.\n",
      "Do you wish to continue playing? (Y/N)Y\n",
      "['Rock', 'Scissors', 'Paper']\n",
      "Please choose Rock, Scissor, or Paper:Rock\n",
      "Paper\n",
      "\n",
      "You chose Rock, computer chose Paper.\n",
      "\n",
      " You lose.\n"
     ]
    }
   ],
   "source": [
    "cont = \"Y\"\n",
    "while cont == \"Y\" :\n",
    "    R= \"Rock\"\n",
    "    S= \"Scissors\"\n",
    "    P= \"Paper\"\n",
    "    \n",
    "    RSP = [\"Rock\",\"Scissors\",\"Paper\"]\n",
    "    print(RSP)\n",
    "    pickRSP=input(\"Please choose Rock, Scissors, or Paper:\")\n",
    "    import random\n",
    "    Auto=random.choice(RSP)\n",
    "    print(Auto)\n",
    "\n",
    "    print(f\"\\nYou chose {pickRSP}, computer chose {Auto}.\\n\")\n",
    "\n",
    "    if pickRSP == Auto:\n",
    "        print(\" It's a tie!\")\n",
    "    elif pickRSP == \"Rock\":\n",
    "        if Auto == \"Scissors\":\n",
    "            print(\" You win!\")\n",
    "        else:\n",
    "            print(\" You lose.\")\n",
    "    elif pickRSP == \"Paper\":\n",
    "        if Auto == \"Rock\":\n",
    "            print(\"You win!\")\n",
    "        else:\n",
    "            print(\"You lose.\")\n",
    "    elif pickRSP == \"Scissors\":\n",
    "        if Auto == \"Paper\":\n",
    "            print(\"You win!\")\n",
    "        else:\n",
    "            print(\"You lose.\")\n",
    "    cont=input('Do you wish to continue playing? (Y/N)')\n"
   ]
  },
  {
   "cell_type": "code",
   "execution_count": null,
   "id": "69eeacfe",
   "metadata": {},
   "outputs": [],
   "source": []
  },
  {
   "cell_type": "code",
   "execution_count": null,
   "id": "29482b93",
   "metadata": {},
   "outputs": [],
   "source": []
  }
 ],
 "metadata": {
  "kernelspec": {
   "display_name": "Python 3",
   "language": "python",
   "name": "python3"
  },
  "language_info": {
   "codemirror_mode": {
    "name": "ipython",
    "version": 3
   },
   "file_extension": ".py",
   "mimetype": "text/x-python",
   "name": "python",
   "nbconvert_exporter": "python",
   "pygments_lexer": "ipython3",
   "version": "3.8.8"
  }
 },
 "nbformat": 4,
 "nbformat_minor": 5
}
